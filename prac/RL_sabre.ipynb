{
 "cells": [
  {
   "cell_type": "code",
   "execution_count": 1,
   "id": "83615de4",
   "metadata": {},
   "outputs": [],
   "source": [
    "import os\n",
    "import gymnasium as gym\n",
    "from algorithm.sabre_env import SabreSwapEnv\n",
    "\n",
    "import qiskit.qasm2\n",
    "from qiskit_ibm_runtime.fake_provider import FakeAlmadenV2\n",
    "from qiskit.transpiler import CouplingMap"
   ]
  },
  {
   "cell_type": "code",
   "execution_count": null,
   "id": "63160a76",
   "metadata": {},
   "outputs": [],
   "source": [
    "# Set up the environment\n",
    "provider = FakeAlmadenV2()\n",
    "coupling_map = CouplingMap(provider.configuration().coupling_map)\n",
    "data_path = '../data'\n",
    "file_list = os.listdir(data_path)\n",
    "file_list = [f for f in file_list if f.endswith('.qasm')]\n",
    "paper_file_list = [\n",
    "    '4mod5-v1_22.qasm',\n",
    "    'mod5mils_65.qasm',\n",
    "    'alu-v0_27.qasm',\n",
    "    'decod24-v2_43.qasm',\n",
    "    '4gt13_92.qasm',\n",
    "    'ising_model_10.qasm',\n",
    "    'ising_model_13.qasm',\n",
    "    'ising_model_16.qasm',\n",
    "    'qft_10.qasm',\n",
    "    'qft_13.qasm',\n",
    "    'qft_16.qasm',\n",
    "    'qft_20.qasm',\n",
    "    'rd84_142.qasm',\n",
    "    'adr4_197.qasm',\n",
    "    'radd_250.qasm',\n",
    "    'z4_268.qasm',\n",
    "    'sym6_145.qasm',\n",
    "    'misex1_241.qasm',\n",
    "    'rd73_252.qasm',\n",
    "    'cycle10_2_110.qasm',\n",
    "    'square_root_7.qasm',\n",
    "    'sqn_258.qasm',\n",
    "    'rd84_253.qasm',\n",
    "    'co14_215.qasm',\n",
    "    'sym9_193.qasm',\n",
    "    '9symml_195.qasm',\n",
    "]\n",
    "paper_file_list = [file for file in file_list if file in paper_file_list]\n",
    "file_list = [f for i, f in enumerate(file_list) if i % 5 == 0]\n",
    "circuits = [qiskit.qasm2.load(os.path.join(data_path, f)) for f in file_list]\n",
    "gym.register(\n",
    "    id=\"SaberSwap-v0\", entry_point=\"algorithm.sabre_env:SabreSwapEnv\")\n",
    "env = gym.make(\n",
    "    id=\"SaberSwap-v0\", circuits = circuits, coupling_map=coupling_map)"
   ]
  },
  {
   "cell_type": "code",
   "execution_count": null,
   "id": "37bb76a3",
   "metadata": {},
   "outputs": [],
   "source": [
    "# The agent model for the environment input, candidate: list[tuple[int, int]], sabre_dag: graph, current_layout: list[int], distance_matrix: list[list[int]]\n",
    "# action -> tuple[int, int]\n",
    "\n",
    "# https://github.com/benedekrozemberczki/graph2vec\n",
    "# 그래프를 분석하는 것의 위의 embedding을 사용하면될 것 같다.\n",
    "# 일단 저것을 사용하고 만약에 성능이 나오지 않는다면, GCN의 접근방식으로 그냥 모델을 바꾸어보자."
   ]
  }
 ],
 "metadata": {
  "kernelspec": {
   "display_name": ".venv (3.13.3)",
   "language": "python",
   "name": "python3"
  },
  "language_info": {
   "codemirror_mode": {
    "name": "ipython",
    "version": 3
   },
   "file_extension": ".py",
   "mimetype": "text/x-python",
   "name": "python",
   "nbconvert_exporter": "python",
   "pygments_lexer": "ipython3",
   "version": "3.13.3"
  }
 },
 "nbformat": 4,
 "nbformat_minor": 5
}
