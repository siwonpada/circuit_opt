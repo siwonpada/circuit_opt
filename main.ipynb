{
 "cells": [
  {
   "cell_type": "code",
   "execution_count": null,
   "id": "13c0a6b9",
   "metadata": {},
   "outputs": [],
   "source": [
    "import qiskit\n"
   ]
  },
  {
   "cell_type": "markdown",
   "id": "49030369",
   "metadata": {},
   "source": [
    "The QASM file inside the ./data folder is from the project for the paper:  \n",
    "Alwin Zulehner, Alexandru Paler, and Robert Wille. 2018. Efficient\n",
    "mapping of quantum circuits to the IBM QX architectures. In Design,\n",
    "Automation & Test in Europe Conference & Exhibition (DATE), 2018.\n",
    "IEEE, 1135–1138."
   ]
  }
 ],
 "metadata": {
  "kernelspec": {
   "display_name": ".venv (3.13.3)",
   "language": "python",
   "name": "python3"
  },
  "language_info": {
   "codemirror_mode": {
    "name": "ipython",
    "version": 3
   },
   "file_extension": ".py",
   "mimetype": "text/x-python",
   "name": "python",
   "nbconvert_exporter": "python",
   "pygments_lexer": "ipython3",
   "version": "3.13.3"
  }
 },
 "nbformat": 4,
 "nbformat_minor": 5
}
